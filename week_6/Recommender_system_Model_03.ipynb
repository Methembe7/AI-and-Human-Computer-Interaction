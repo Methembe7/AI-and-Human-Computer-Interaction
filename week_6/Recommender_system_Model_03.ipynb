{
 "cells": [
  {
   "cell_type": "code",
   "execution_count": 7,
   "id": "2b65b227-41f3-4064-9188-3ecc6d783158",
   "metadata": {},
   "outputs": [
    {
     "name": "stdout",
     "output_type": "stream",
     "text": [
      "{'test_rmse': array([0.82811214, 0.82720475, 0.82821555, 0.82645548, 0.82736274]), 'fit_time': (23.972296953201294, 24.25088620185852, 24.08428192138672, 20.36132502555847, 17.078454971313477), 'test_time': (6.888312101364136, 5.253037929534912, 4.599365949630737, 4.552490949630737, 4.387094974517822)}\n"
     ]
    }
   ],
   "source": [
    "import pandas as pd\n",
    "import matplotlib.pyplot as plt\n",
    "\n",
    "\n",
    "from surprise import Reader, Dataset, SVD\n",
    "from surprise.model_selection import cross_validate\n",
    "\n",
    "reader = Reader()\n",
    "\n",
    "df_ratings_XS = pd.read_csv('df_ratings_XS.csv', delimiter='|')\n",
    "data = Dataset.load_from_df(df_ratings_XS[['Cust_Id', 'Movie_Id', 'Rating']], reader)\n",
    "\n",
    "\n",
    "svd = SVD(biased=False, n_factors=80)\n",
    "res = cross_validate(svd, data, measures=['RMSE'], cv=5, n_jobs=-1)\n",
    "print(res)"
   ]
  },
  {
   "cell_type": "code",
   "execution_count": null,
   "id": "9280589f-1bf4-4507-add7-af65ba7504d3",
   "metadata": {},
   "outputs": [],
   "source": []
  }
 ],
 "metadata": {
  "kernelspec": {
   "display_name": "Python 3 (ipykernel)",
   "language": "python",
   "name": "python3"
  },
  "language_info": {
   "codemirror_mode": {
    "name": "ipython",
    "version": 3
   },
   "file_extension": ".py",
   "mimetype": "text/x-python",
   "name": "python",
   "nbconvert_exporter": "python",
   "pygments_lexer": "ipython3",
   "version": "3.12.4"
  }
 },
 "nbformat": 4,
 "nbformat_minor": 5
}
