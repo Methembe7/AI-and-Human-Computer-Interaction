{
 "cells": [
  {
   "cell_type": "code",
   "execution_count": 39,
   "id": "5ba7be2e-f47c-4293-a7ed-fb7a96ea496f",
   "metadata": {},
   "outputs": [
    {
     "name": "stdout",
     "output_type": "stream",
     "text": [
      "          Cust_Id  Rating                                               Name\n",
      "Movie_Id                                                                    \n",
      "8333      1765963     5.0                                  Conspiracy Theory\n",
      "7253      1765963     5.0                                    Black Sheep Boy\n",
      "6829      1765963     5.0                              The 1964 World's Fair\n",
      "6859      1765963     5.0                                     Calendar Girls\n",
      "11218     1765963     5.0                         Legend: The Director's Cut\n",
      "7040      1765963     5.0     The Murder of Emmett Till: American Experience\n",
      "11173     1765963     5.0                                    The War at Home\n",
      "14109     1765963     5.0                              My Best Friend's Wife\n",
      "11089     1765963     5.0                                     Stir of Echoes\n",
      "7331      1765963     5.0                                  Frasier: Season 5\n",
      "13772     1765963     5.0                                   Video Essentials\n",
      "7343      1765963     5.0                                      Helen of Troy\n",
      "7391      1765963     5.0                       The King of Queens: Season 1\n",
      "7513      1765963     5.0                        The Hunchback of Notre Dame\n",
      "7555      1765963     5.0                                               Popi\n",
      "7590      1765963     5.0  The John Wayne Collection: Vol. 2: Riders of D...\n",
      "7617      1765963     5.0                    Ken Burns' America: The Shakers\n",
      "7631      1765963     5.0                                              Birth\n",
      "6760      1765963     5.0                                   Stealing Sinatra\n",
      "6677      1765963     5.0               Spike & Mike's Cutting Edge Classics\n"
     ]
    },
    {
     "ename": "AttributeError",
     "evalue": "'SVD' object has no attribute 'trainset'",
     "output_type": "error",
     "traceback": [
      "\u001b[0;31m---------------------------------------------------------------------------\u001b[0m",
      "\u001b[0;31mAttributeError\u001b[0m                            Traceback (most recent call last)",
      "Cell \u001b[0;32mIn[39], line 35\u001b[0m\n\u001b[1;32m     33\u001b[0m to_rate \u001b[38;5;241m=\u001b[39m [mo \u001b[38;5;28;01mfor\u001b[39;00m mo \u001b[38;5;129;01min\u001b[39;00m movieids \u001b[38;5;28;01mif\u001b[39;00m mo \u001b[38;5;129;01mnot\u001b[39;00m \u001b[38;5;129;01min\u001b[39;00m \u001b[38;5;28mlist\u001b[39m(df_ratings_XS\u001b[38;5;241m.\u001b[39mloc[df_ratings_XS[\u001b[38;5;124m'\u001b[39m\u001b[38;5;124mCust_Id\u001b[39m\u001b[38;5;124m'\u001b[39m]\u001b[38;5;241m==\u001b[39m_Custid, \u001b[38;5;124m'\u001b[39m\u001b[38;5;124mMovie_Id\u001b[39m\u001b[38;5;124m'\u001b[39m])]\n\u001b[1;32m     34\u001b[0m \u001b[38;5;28;01mfor\u001b[39;00m mo \u001b[38;5;129;01min\u001b[39;00m to_rate:\n\u001b[0;32m---> 35\u001b[0m     pred_data\u001b[38;5;241m.\u001b[39mappend([mo, _Custid, svd\u001b[38;5;241m.\u001b[39mpredict(_Custid, mo)\u001b[38;5;241m.\u001b[39mest])\n\u001b[1;32m     36\u001b[0m pred_ratings \u001b[38;5;241m=\u001b[39m pd\u001b[38;5;241m.\u001b[39mDataFrame(data\u001b[38;5;241m=\u001b[39mpred_data, columns\u001b[38;5;241m=\u001b[39m[\u001b[38;5;124m'\u001b[39m\u001b[38;5;124mMovie_Id\u001b[39m\u001b[38;5;124m'\u001b[39m, \u001b[38;5;124m'\u001b[39m\u001b[38;5;124mCust_Id\u001b[39m\u001b[38;5;124m'\u001b[39m, \u001b[38;5;124m'\u001b[39m\u001b[38;5;124mPredicted_Rating\u001b[39m\u001b[38;5;124m'\u001b[39m])\n\u001b[1;32m     37\u001b[0m pred_ratings \u001b[38;5;241m=\u001b[39m pd\u001b[38;5;241m.\u001b[39mmerge(left\u001b[38;5;241m=\u001b[39mpred_ratings\u001b[38;5;241m.\u001b[39mset_index([\u001b[38;5;124m'\u001b[39m\u001b[38;5;124mMovie_Id\u001b[39m\u001b[38;5;124m'\u001b[39m]), right\u001b[38;5;241m=\u001b[39mdf_mov_titles[\u001b[38;5;124m'\u001b[39m\u001b[38;5;124mName\u001b[39m\u001b[38;5;124m'\u001b[39m],\n\u001b[1;32m     38\u001b[0m                         how\u001b[38;5;241m=\u001b[39m\u001b[38;5;124m'\u001b[39m\u001b[38;5;124mleft\u001b[39m\u001b[38;5;124m'\u001b[39m, left_index\u001b[38;5;241m=\u001b[39m\u001b[38;5;28;01mTrue\u001b[39;00m, right_index\u001b[38;5;241m=\u001b[39m\u001b[38;5;28;01mTrue\u001b[39;00m)\n",
      "File \u001b[0;32m/opt/anaconda3/lib/python3.12/site-packages/surprise/prediction_algorithms/algo_base.py:92\u001b[0m, in \u001b[0;36mAlgoBase.predict\u001b[0;34m(self, uid, iid, r_ui, clip, verbose)\u001b[0m\n\u001b[1;32m     90\u001b[0m \u001b[38;5;66;03m# Convert raw ids to inner ids\u001b[39;00m\n\u001b[1;32m     91\u001b[0m \u001b[38;5;28;01mtry\u001b[39;00m:\n\u001b[0;32m---> 92\u001b[0m     iuid \u001b[38;5;241m=\u001b[39m \u001b[38;5;28mself\u001b[39m\u001b[38;5;241m.\u001b[39mtrainset\u001b[38;5;241m.\u001b[39mto_inner_uid(uid)\n\u001b[1;32m     93\u001b[0m \u001b[38;5;28;01mexcept\u001b[39;00m \u001b[38;5;167;01mValueError\u001b[39;00m:\n\u001b[1;32m     94\u001b[0m     iuid \u001b[38;5;241m=\u001b[39m \u001b[38;5;124m\"\u001b[39m\u001b[38;5;124mUKN__\u001b[39m\u001b[38;5;124m\"\u001b[39m \u001b[38;5;241m+\u001b[39m \u001b[38;5;28mstr\u001b[39m(uid)\n",
      "\u001b[0;31mAttributeError\u001b[0m: 'SVD' object has no attribute 'trainset'"
     ]
    }
   ],
   "source": [
    "\n",
    "import matplotlib.pyplot as plt\n",
    "import numpy as np\n",
    "import pandas as pd\n",
    "from surprise import Reader, Dataset, SVD\n",
    "from surprise.model_selection import cross_validate\n",
    "\n",
    "reader = Reader()\n",
    "\n",
    "\n",
    "\n",
    "\n",
    "\n",
    "df_ratings_XS = pd.read_csv('df_ratings_XS.csv', delimiter='|')\n",
    "df_mov_titles = pd.read_csv('movie_titles.csv', sep=',', header=None, names=['Movie_Id', 'Year', 'Name'], usecols=[0,1,2], encoding=\"ISO-8859-1\")\n",
    "data = Dataset.load_from_df(df_ratings_XS[['Cust_Id', 'Movie_Id', 'Rating']], reader)\n",
    "\n",
    "\n",
    "\n",
    "\n",
    "_Custid = 1765963\n",
    "# Real ratings\n",
    "real_ratings = df_ratings_XS.loc[df_ratings_XS['Cust_Id']==_Custid, :]\n",
    "real_ratings = pd.merge(left=real_ratings.set_index(['Movie_Id']), right=df_mov_titles['Name'],\n",
    "                        how='left', left_index=True, right_index=True)\n",
    "print(real_ratings.sort_values(by=['Rating'], ascending=[False]).head(20))\n",
    "\n",
    "# Predict ratings for movies with no ratings\n",
    "pred_data = []\n",
    "movieids = np.sort(df_ratings_XS['Movie_Id'].unique())\n",
    "to_rate = [mo for mo in movieids if mo not in list(df_ratings_XS.loc[df_ratings_XS['Cust_Id']==_Custid, 'Movie_Id'])]\n",
    "for mo in to_rate:\n",
    "    pred_data.append([mo, _Custid, svd.predict(_Custid, mo).est])\n",
    "pred_ratings = pd.DataFrame(data=pred_data, columns=['Movie_Id', 'Cust_Id', 'Predicted_Rating'])\n",
    "pred_ratings = pd.merge(left=pred_ratings.set_index(['Movie_Id']), right=df_mov_titles['Name'],\n",
    "                        how='left', left_index=True, right_index=True)\n",
    "print(pred_ratings.sort_values(by=['Predicted_Rating','Name'], ascending=[False,True]).head(20))"
   ]
  },
  {
   "cell_type": "code",
   "execution_count": null,
   "id": "6f7a460a-7ab7-455d-bfb0-c4a2eab4d554",
   "metadata": {},
   "outputs": [],
   "source": []
  }
 ],
 "metadata": {
  "kernelspec": {
   "display_name": "Python 3 (ipykernel)",
   "language": "python",
   "name": "python3"
  },
  "language_info": {
   "codemirror_mode": {
    "name": "ipython",
    "version": 3
   },
   "file_extension": ".py",
   "mimetype": "text/x-python",
   "name": "python",
   "nbconvert_exporter": "python",
   "pygments_lexer": "ipython3",
   "version": "3.12.4"
  }
 },
 "nbformat": 4,
 "nbformat_minor": 5
}
