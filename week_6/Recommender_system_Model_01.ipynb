{
 "cells": [
  {
   "cell_type": "code",
   "execution_count": 32,
   "id": "bf0373ab-fb49-4ffa-95c6-0c3c04955d7b",
   "metadata": {},
   "outputs": [
    {
     "name": "stdout",
     "output_type": "stream",
     "text": [
      "   Cust_Id  Rating  Movie_Id\n",
      "0   243963     3.0         8\n",
      "1  1447783     4.0         8\n",
      "2  2289614     3.0         8\n",
      "3  1777904     4.0         8\n",
      "4  2460625     3.0         8\n"
     ]
    }
   ],
   "source": [
    "import matplotlib.pyplot as plt\n",
    "import pandas as pd \n",
    "from surprise import Reader, Dataset, SVD\n",
    "from surprise.model_selection import cross_validate\n",
    "\n",
    "reader = Reader()\n",
    "df_ratings_XS = pd.read_csv('df_ratings_XS.csv', delimiter='|')\n",
    "print(df_ratings_XS.head())\n",
    "data = Dataset.load_from_df(df_ratings_XS[['Cust_Id', 'Movie_Id', 'Rating']][:], reader)"
   ]
  },
  {
   "cell_type": "code",
   "execution_count": null,
   "id": "d55821f7-eb26-4b2e-8bba-2b576f37db90",
   "metadata": {},
   "outputs": [],
   "source": []
  }
 ],
 "metadata": {
  "kernelspec": {
   "display_name": "Python 3 (ipykernel)",
   "language": "python",
   "name": "python3"
  },
  "language_info": {
   "codemirror_mode": {
    "name": "ipython",
    "version": 3
   },
   "file_extension": ".py",
   "mimetype": "text/x-python",
   "name": "python",
   "nbconvert_exporter": "python",
   "pygments_lexer": "ipython3",
   "version": "3.12.4"
  }
 },
 "nbformat": 4,
 "nbformat_minor": 5
}
